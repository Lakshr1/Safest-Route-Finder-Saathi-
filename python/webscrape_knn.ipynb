{
  "cells": [
    {
      "cell_type": "code",
      "execution_count": null,
      "metadata": {
        "colab": {
          "base_uri": "https://localhost:8080/",
          "height": 51
        },
        "colab_type": "code",
        "id": "MAVJQLQUazK_",
        "outputId": "c5bef95b-903b-4d5f-ce15-f9df1193db44"
      },
      "outputs": [
        {
          "name": "stdout",
          "output_type": "stream",
          "text": [
            "Requirement already satisfied: bs4 in /usr/local/lib/python3.6/dist-packages (0.0.1)\n",
            "Requirement already satisfied: beautifulsoup4 in /usr/local/lib/python3.6/dist-packages (from bs4) (4.6.3)\n"
          ]
        }
      ],
      "source": [
        "pip install bs4"
      ]
    },
    {
      "cell_type": "code",
      "execution_count": null,
      "metadata": {
        "colab": {
          "base_uri": "https://localhost:8080/",
          "height": 969
        },
        "colab_type": "code",
        "id": "G_MYK1cOazX1",
        "outputId": "384a1a6b-2d65-4b85-ceb5-ae62cb1b3259"
      },
      "outputs": [
        {
          "name": "stdout",
          "output_type": "stream",
          "text": [
            "                Sreet name  ...    district\n",
            "0                      NaN  ...         NaN\n",
            "1               Akbar road  ...     central\n",
            "2      Aruna Asaf Ali Marg  ...  south west\n",
            "3             Ashram Chowk  ...  south west\n",
            "4  Bahadur Shah Zafar Marg  ...     central\n",
            "\n",
            "[5 rows x 15 columns]\n",
            "['Akbar road' 'Aruna Asaf Ali Marg' 'Ashram Chowk'\n",
            " 'Bahadur Shah Zafar Marg' 'Barakhamba Road' 'Delhi Gurgaon Expressway'\n",
            " 'DND Flyway' 'Dr APJ Abdul Kalam Road'\n",
            " 'Eastern Peripheral Expressway (NE II)'\n",
            " 'Faridabad-Noida-Ghaziabad Expressway' 'Grand Trunk Road' 'IIT Flyover'\n",
            " 'Inner Ring Road, Delhi' 'Janpath Road' 'Kashmiri Gate, Delhi'\n",
            " 'Lodhi Road' 'Lok Kalyan Marg' 'Mathura Road, Delhi'\n",
            " 'Outer Ring Road, Delhi' 'Mansingh Road' 'Motilal Nehru Road'\n",
            " 'Maulana Azad Road' 'Krishna Menon Road' 'Tughlaq Road'\n",
            " 'Tees January Marg' 'Delhi Ring Road' 'Shahjahan Road' 'Humayun Road'\n",
            " 'Prithviraj Road' 'Mustafa Kemal Ataturk Marg' 'Safdarjung Road'\n",
            " 'National Highway 1' 'National Highway 2' 'National Highway 8'\n",
            " 'National Highway 10' 'National Highway 24' 'Nizamuddin Bridge'\n",
            " 'ITO flyover'\n",
            " 'Old Hanuman Mandir/ Iron Bridge/Old Delhi Xing/ Yamuna Bazar Bridge'\n",
            " 'ISBT Kashmere Gate Flyover' 'Azadpur bridge' 'Wazirpur Bridge'\n",
            " 'Madhuman chowk underpass' 'Britannia Chowk Flyover'\n",
            " 'Punjabi Bagh Flyover' 'Moti Nagar Flyover'\n",
            " 'Shivaji Place District Centre Flyover' 'Mayapuri flyover'\n",
            " 'Kirti Nagar flyover' 'Naraina Bridge' 'Dhaula kuan' 'Motibagh flyover'\n",
            " 'Africa Avenue Flyover' 'Saronjini Nagar flyover' 'AIIMS flyover Complex'\n",
            " 'Bhishm Pitamah Marg Xing' 'August Kranti Marg Xing'\n",
            " 'South Extension Xing' 'Moolchand Flyover' 'Defence Colony Underpass'\n",
            " 'Lajpat Nagar flyover' 'Nehru nagar Bridge' 'Ajmal Khan Road'\n",
            " 'Amrita Shergil Marg' 'Baba Kharak Singh Marg' 'Balwant Rai Mehta Lane'\n",
            " 'Dr Bishambar Das Marg' 'Jawahar Lal Nehru Marg' 'Kasturba Gandhi Marg'\n",
            " 'Rafi Marg' 'Rajaji Marg' 'Rajesh Pilot Marg' 'Sardar Patel Marg'\n",
            " 'Subramania Bharti Marg' 'Thyagaraja Marg' 'Tilak Marg' 'Tolstoy Marg'\n",
            " 'Vivekanand Marg' 'Haneef Uddin Marg' 'Maharaja Agrasen Road'\n",
            " 'Alexander M. Kadakin Marg' 'AndrÃ© Malraux Marg' 'Bhai Vir Singh Marg'\n",
            " 'chlemsford road' 'Connaught Lane' 'Dara Shikoh Road'\n",
            " 'Gamal Abdel Nasser Marg' 'Hailey Road' 'Indira Chowk' 'Jai Singh Marg'\n",
            " 'Justice S.B. Road' 'Justice Sunanda Bhandare Marg' 'Kwame Nkrumah Marg'\n",
            " 'Maharshi Raman Marg' 'Archbishop Makarios Marg'\n",
            " 'Mohammad Ali Jauhar Marg' 'Mother Teresa Crescent' 'Motilal Nehru Marg'\n",
            " 'Mustafa Kemal Ataturk Marg' 'Najaf Khan Road' 'Nelson Mandela Road'\n",
            " 'Rajiv Chowk' 'Rao Tula Ram Marg' 'Dr Zakir Hussain Marg'\n",
            " 'Sham Nath Marg' 'Rani Jhansi Road' 'Ansari Road' 'Netaji Subhash Marg'\n",
            " 'Swami Shradhanand Marg' 'Benito Juarez Marg'\n",
            " 'Khan Abdul Ghaffar Khan Marg' 'Bangla Sahib Marg' 'Kali Marg'\n",
            " 'Mandir Marg' 'Teen Murti Marg' 'Mehrauli Badarpur Road' 'Aurbindo Marg'\n",
            " 'Mahipalpur Mehrauli Road' 'Mehrauli  Gurgaon Road' 'Ho Chi Minh Marg'\n",
            " 'Lala Lajpat Rai Marg' 'Lal Bahadur Shastri Marg' 'Shanti Path'\n",
            " 'Pusa Road' 'Cariappa Marg' 'Simon Bolivar Marg' 'Raisina Road'\n",
            " 'Siri Fort Marg' 'Vandematram Marg' 'Shankar Road' 'K B Hedgewar Marg'\n",
            " 'Anuvpat Marg' 'Najafgarh Road' 'Swarna Jayanti Marg'\n",
            " 'Zorawar Singh Marg' 'Vinay Marg' 'Race Course Road' 'Ashoka Road'\n",
            " 'Sree Vinayaka Mandir Marg' 'Kautilya Marg']\n"
          ]
        }
      ],
      "source": [
        "import pandas as pd\n",
        "import numpy as np\n",
        "import requests\n",
        "data = pd.read_csv(\"streets_detail.csv\",encoding = \"ISO-8859-1\")\n",
        "print(data.head())\n",
        "streets= np.array(data['Sreet name'])[1:]\n",
        "streets=np.array(streets)\n",
        "data=np.array(data)\n",
        "print(streets)"
      ]
    },
    {
      "cell_type": "code",
      "execution_count": null,
      "metadata": {
        "colab": {
          "base_uri": "https://localhost:8080/",
          "height": 34
        },
        "colab_type": "code",
        "id": "KhbOtNWWpILq",
        "outputId": "2209e9ae-ab19-4091-c203-e78986e7157a"
      },
      "outputs": [
        {
          "data": {
            "text/plain": [
              "1"
            ]
          },
          "execution_count": 3,
          "metadata": {
            "tags": []
          },
          "output_type": "execute_result"
        }
      ],
      "source": [
        "st='a'\n",
        "len(st)"
      ]
    },
    {
      "cell_type": "code",
      "execution_count": null,
      "metadata": {
        "colab": {
          "base_uri": "https://localhost:8080/",
          "height": 442
        },
        "colab_type": "code",
        "id": "8mz6DnjEc4oY",
        "outputId": "683ebc12-79f0-45d3-e786-00b699fb8c28"
      },
      "outputs": [
        {
          "name": "stdout",
          "output_type": "stream",
          "text": [
            "26.5 km\n",
            " \n",
            "5.0 km\n",
            "3.2 km\n",
            " \n",
            "750.0 m\n",
            " \n",
            " \n",
            "800.0 m\n",
            " \n",
            " \n",
            " \n",
            " \n",
            " \n",
            "280.0 m\n",
            " \n",
            " \n",
            "8.1 km\n",
            " \n",
            "1.2 km\n",
            " \n",
            " \n",
            "3.2 km\n",
            " \n",
            "2.8 km\n"
          ]
        }
      ],
      "source": [
        "m=np.zeros(len(streets))\n",
        "c=2\n",
        "for street in streets:\n",
        "  c+=1\n",
        "  try:\n",
        "    wiki = \"https://www.google.com/search?q=\"+street+' nearest metro station'\n",
        "    wiki=wiki.replace(' ','%20')\n",
        "    #print(wiki)\n",
        "    import requests\n",
        "    page=requests.get(wiki).text\n",
        "    from bs4 import BeautifulSoup\n",
        "\n",
        "    soup = BeautifulSoup(page, 'html.parser')\n",
        "    #print(soup.prettify())\n",
        "    div=soup.find_all('div',{'class':'am3QBf'})\n",
        "    #print(div[0].text)\n",
        "    imp=div[0].find_all('div',{'class':'BNeawe deIvCb AP7Wnd'})\n",
        "    if len(imp[0].text)==1:\n",
        "      imp=imp[1].text\n",
        "    else:\n",
        "      imp=imp[0].text\n",
        "    #print(imp)\n",
        "    wiki = \"https://www.google.com/search?q=distance of \"+street+' to '+imp +' metro station'\n",
        "    wiki=wiki.replace(' ','%20')\n",
        "    #print(wiki)\n",
        "\n",
        "    page=requests.get(wiki).text\n",
        "\n",
        "    soup = BeautifulSoup(page, 'html.parser')\n",
        "    #print(soup.prettify())\n",
        "    #f=open(\"abc.html\",\"w+\")\n",
        "    #f.write(str(soup))\n",
        "\n",
        "    div=soup.find_all('div',{'class':'BNeawe deIvCb AP7Wnd'})[0].text\n",
        "    #print(div)\n",
        "    div=div.replace('(','zzzz')\n",
        "    div=div.replace(')','zzzz')\n",
        "    import re\n",
        "    m=re.search('zzzz(.+?)zzzz', div).group(1)\n",
        "    print(m)\n",
        "    if ' m' in m:\n",
        "      m = float(m.replace(' m',''))/1000\n",
        "    else:\n",
        "      m = float(m.replace(' km',''))\n",
        "    #print(m)\n",
        "  except:\n",
        "    print(' ')"
      ]
    },
    {
      "cell_type": "code",
      "execution_count": null,
      "metadata": {
        "colab": {
          "base_uri": "https://localhost:8080/",
          "height": 935
        },
        "colab_type": "code",
        "id": "-8tm3l0gLq7T",
        "outputId": "4eb6f51d-7e5b-4694-a1d2-6cbd403077c7"
      },
      "outputs": [
        {
          "name": "stdout",
          "output_type": "stream",
          "text": [
            "[['Mehrauli Badarpur Road' '26.5' 'major district road' 'south' '4.8' nan\n",
            "  nan nan nan nan nan nan nan nan]\n",
            " ['Aurbindo Marg' '0.55' 'major district road' 'south west' '1.1' nan nan\n",
            "  nan nan nan nan nan nan nan]\n",
            " ['Mahipalpur Mehrauli Road' '5' 'major district road' 'south west' '8.8'\n",
            "  nan nan nan nan nan nan nan nan nan]\n",
            " ['Mehrauli  Gurgaon Road' '3.2' 'major district road' 'south west' '6.5'\n",
            "  nan nan nan nan nan nan nan nan nan]\n",
            " ['Ho Chi Minh Marg' '0.152' 'major district road' 'south' '0.45' nan nan\n",
            "  nan nan nan nan nan nan nan]\n",
            " ['Lala Lajpat Rai Marg' '0.75' 'major district road' 'south' '1.8' nan\n",
            "  nan nan nan nan nan nan nan nan]\n",
            " ['Lal Bahadur Shastri Marg' '0.16' 'major district road' 'south' '6.7'\n",
            "  nan nan nan nan nan nan nan nan nan]\n",
            " ['Shanti Path' '0.455' 'major district road' 'south west' '0.8' nan nan\n",
            "  nan nan nan nan nan nan nan]\n",
            " ['Pusa Road' '0.8' 'major district road' 'central' '1.1' nan nan nan nan\n",
            "  nan nan nan nan nan]\n",
            " ['Cariappa Marg' '1' 'major district road' 'Delhi Cantt' '2.7' nan nan\n",
            "  nan nan nan nan nan nan nan]\n",
            " ['Simon Bolivar Marg' '0.935' 'major district road' 'south west' '1.7'\n",
            "  nan nan nan nan nan nan nan nan nan]\n",
            " ['Raisina Road' '1' 'major district road' 'central' '0.6' nan nan nan\n",
            "  nan nan nan nan nan nan]\n",
            " ['Siri Fort Marg' '1' 'major district road' 'south' '1.3' nan nan nan\n",
            "  nan nan nan nan nan nan]\n",
            " ['Vandematram Marg' '2' 'major district road' 'central' '0.5' nan nan\n",
            "  nan nan nan nan nan nan nan]\n",
            " ['Shankar Road' '0.28' 'major district road' 'central' '0.4' nan nan nan\n",
            "  nan nan nan nan nan nan]\n",
            " ['K B Hedgewar Marg' '1' 'major district road' 'west' '0.2' nan nan nan\n",
            "  nan nan nan nan nan nan]\n",
            " ['Anuvpat Marg' '1' 'major district road' 'south west' '1.2' nan nan nan\n",
            "  nan nan nan nan nan nan]\n",
            " ['Najafgarh Road' '8.1' 'major district road' 'south west' '10.5' nan\n",
            "  nan nan nan nan nan nan nan nan]\n",
            " ['Swarna Jayanti Marg' '0.278' 'major district road' 'central' '0.8' nan\n",
            "  nan nan nan nan nan nan nan nan]\n",
            " ['Zorawar Singh Marg' '1.2' 'major district road' 'central' '5.5' nan\n",
            "  nan nan nan nan nan nan nan nan]\n",
            " ['Vinay Marg' '2' 'major district road' 'south west' '0.9' nan nan nan\n",
            "  nan nan nan nan nan nan]\n",
            " ['Race Course Road' '0.044' 'major district road' 'central' '0.3' nan\n",
            "  nan nan nan nan nan nan nan nan]\n",
            " ['Ashoka Road' '3.2' 'major district road' 'central' '0.1' nan nan nan\n",
            "  nan nan nan nan nan nan]\n",
            " ['Sree Vinayaka Mandir Marg' '0.6' 'major district road' 'south west'\n",
            "  '0.7' nan nan nan nan nan nan nan nan nan]\n",
            " ['Kautilya Marg' '2.8' 'major district road' 'south west' '1.1' nan nan\n",
            "  nan nan nan nan nan nan nan]]\n",
            "['south' 'south west' 'south west' 'south west' 'south' 'south' 'south'\n",
            " 'south west' 'central' 'Delhi Cantt' 'south west' 'central' 'south'\n",
            " 'central' 'central' 'west' 'south west' 'south west' 'central' 'central'\n",
            " 'south west' 'central' 'central' 'south west' 'south west']\n"
          ]
        }
      ],
      "source": [
        "data=np.array(data[116:])\n",
        "print(data)\n",
        "x = data[:,3]\n",
        "#x=x[1:]\n",
        "print(x)"
      ]
    },
    {
      "cell_type": "code",
      "execution_count": null,
      "metadata": {
        "colab": {
          "base_uri": "https://localhost:8080/",
          "height": 442
        },
        "colab_type": "code",
        "id": "YOJJLolGqZot",
        "outputId": "7f30bff5-b7ba-4d8d-9324-25af1d92db40"
      },
      "outputs": [
        {
          "name": "stdout",
          "output_type": "stream",
          "text": [
            "2731929.0\n",
            "2292958.0\n",
            "2292958.0\n",
            "2292958.0\n",
            "2731929.0\n",
            "2731929.0\n",
            "2731929.0\n",
            "2292958.0\n",
            "582320.0\n",
            "116000.0\n",
            "2292958.0\n",
            "582320.0\n",
            "2731929.0\n",
            "582320.0\n",
            "582320.0\n",
            "2543243.0\n",
            "2292958.0\n",
            "2292958.0\n",
            "582320.0\n",
            "582320.0\n",
            "2292958.0\n",
            "582320.0\n",
            "582320.0\n",
            "2292958.0\n",
            "2292958.0\n"
          ]
        }
      ],
      "source": [
        "population = np.zeros(len(x))\n",
        "for i in range(0,len(x)):\n",
        "  x[i] = x[i].lower()\n",
        "  if x[i]=='south':\n",
        "    population[i] = 2731929\n",
        "  if x[i]=='central':\n",
        "    population[i] = 582320\n",
        "  if x[i]=='north':\n",
        "    population[i] = 887978\n",
        "  if x[i]=='north east':\n",
        "    population[i] = 2241624\n",
        "  if x[i]=='north west':\n",
        "    population[i] = 3656539\n",
        "  if x[i]=='south west':\n",
        "    population[i] = 2292958\n",
        "  if x[i]=='west':\n",
        "    population[i] = 2543243\n",
        "  if x[i]=='east':\n",
        "    population[i] = 1709346\n",
        "  if x[i]=='new delhi':\n",
        "    population[i] = 142004\n",
        "  if x[i]=='delhi cantt':\n",
        "    population[i] = 116000\n",
        "  print(population[i])"
      ]
    },
    {
      "cell_type": "code",
      "execution_count": null,
      "metadata": {
        "colab": {
          "base_uri": "https://localhost:8080/",
          "height": 187
        },
        "colab_type": "code",
        "id": "6iLkdtjurGDp",
        "outputId": "e0d45d19-ba2a-40ae-a267-ae93627e80bc"
      },
      "outputs": [
        {
          "name": "stdout",
          "output_type": "stream",
          "text": [
            "[['Central' 91 305 212 54 9 26 123 37]\n",
            " ['East' 230 678 446 171 36 91 143 114]\n",
            " ['New Delhi' 20 44 56 25 1 14 15 18]\n",
            " ['North' 60 279 180 42 12 16 109 18]\n",
            " ['North East' 237 1047 492 171 46 47 224 50]\n",
            " ['North West' 165 663 404 109 23 61 208 51]\n",
            " ['South' 280 627 595 150 39 0 406 665]\n",
            " ['South East' 266 683 469 85 34 74 274 123]\n",
            " ['South West' 234 719 494 86 57 99 248 68]\n",
            " ['West' 251 848 484 137 64 52 223 63]]\n"
          ]
        }
      ],
      "source": [
        "import pandas as pd\n",
        "import numpy as np\n",
        "import requests\n",
        "crime = np.array(pd.read_csv(\"crime.csv\"))\n",
        "print(crime)"
      ]
    },
    {
      "cell_type": "code",
      "execution_count": null,
      "metadata": {
        "colab": {
          "base_uri": "https://localhost:8080/",
          "height": 85
        },
        "colab_type": "code",
        "id": "XxFybhx32C1H",
        "outputId": "d099fb41-1a02-4484-ff69-58bc775fe68c"
      },
      "outputs": [
        {
          "name": "stdout",
          "output_type": "stream",
          "text": [
            "['south' 'south west' 'south west' 'south west' 'south' 'south' 'south'\n",
            " 'south west' 'central' 'delhi cantt' 'south west' 'central' 'south'\n",
            " 'central' 'central' 'west' 'south west' 'south west' 'central' 'central'\n",
            " 'south west' 'central' 'central' 'south west' 'south west']\n"
          ]
        }
      ],
      "source": [
        "print(x)"
      ]
    },
    {
      "cell_type": "code",
      "execution_count": null,
      "metadata": {
        "colab": {
          "base_uri": "https://localhost:8080/",
          "height": 442
        },
        "colab_type": "code",
        "id": "m7cC2Y732Xoh",
        "outputId": "705bc493-b2d5-4fb3-a64a-0c3dc6b37ea8"
      },
      "outputs": [
        {
          "name": "stdout",
          "output_type": "stream",
          "text": [
            "665\n",
            "68\n",
            "68\n",
            "68\n",
            "665\n",
            "665\n",
            "665\n",
            "68\n",
            "37\n",
            "0\n",
            "68\n",
            "37\n",
            "665\n",
            "37\n",
            "37\n",
            "63\n",
            "68\n",
            "68\n",
            "37\n",
            "37\n",
            "68\n",
            "37\n",
            "37\n",
            "68\n",
            "68\n"
          ]
        }
      ],
      "source": [
        "for dis in x:\n",
        "  flag=0\n",
        "  for i in crime:\n",
        "\n",
        "    if dis.lower() == i[0].lower():\n",
        "      flag=1\n",
        "      print(i[8])\n",
        "  if flag==0:\n",
        "    print('0')"
      ]
    },
    {
      "cell_type": "code",
      "execution_count": null,
      "metadata": {
        "colab": {},
        "colab_type": "code",
        "id": "ExNbHPfdwXZr"
      },
      "outputs": [],
      "source": [
        "data=np.array(data[116:])"
      ]
    },
    {
      "cell_type": "code",
      "execution_count": null,
      "metadata": {
        "colab": {
          "base_uri": "https://localhost:8080/",
          "height": 153
        },
        "colab_type": "code",
        "id": "W3yNm2hjwe8b",
        "outputId": "7d556ddd-bf9f-4788-a4b7-577c4a8dbe38"
      },
      "outputs": [
        {
          "name": "stdout",
          "output_type": "stream",
          "text": [
            "[['Akbar road' 1.2 'major district road' ... 123.0 37.0 'central']\n",
            " ['Aruna Asaf Ali Marg' 5.1 'district road' ... 248.0 68.0 'south west']\n",
            " ['Ashram Chowk' 5.7 'major district road' ... 274.0 123.0 'south west']\n",
            " ...\n",
            " ['Ashoka Road' 3.2 'major district road' ... 123.0 37.0 'central']\n",
            " ['Sree Vinayaka Mandir Marg' 0.6 'major district road' ... 248.0 68.0\n",
            "  'south west']\n",
            " ['Kautilya Marg' 2.8 'major district road' ... 248.0 68.0 'south west']]\n"
          ]
        }
      ],
      "source": [
        "data=data[1:]\n",
        "print(data)"
      ]
    },
    {
      "cell_type": "code",
      "execution_count": null,
      "metadata": {
        "colab": {
          "base_uri": "https://localhost:8080/",
          "height": 442
        },
        "colab_type": "code",
        "id": "t07DL8nrIySx",
        "outputId": "985a6956-d3d2-403b-a8b7-a53e4bde8ea2"
      },
      "outputs": [
        {
          "name": "stdout",
          "output_type": "stream",
          "text": [
            "4.8\n",
            " \n",
            "8.8\n",
            "6.5\n",
            " \n",
            " \n",
            "6.7\n",
            " \n",
            "1.1\n",
            "2.7\n",
            " \n",
            "0.9\n",
            " \n",
            " \n",
            "0.4\n",
            " \n",
            " \n",
            "10.5\n",
            " \n",
            "5.5\n",
            " \n",
            " \n",
            " \n",
            " \n",
            "1.1\n"
          ]
        }
      ],
      "source": [
        "c=1\n",
        "for street in streets:\n",
        "  try:\n",
        "    wiki = \"https://www.google.com/search?q=\"+street+' nearest police station'\n",
        "    wiki=wiki.replace(' ','%20')\n",
        "    #print(wiki)\n",
        "    import requests\n",
        "    page=requests.get(wiki).text\n",
        "    from bs4 import BeautifulSoup\n",
        "    #print(page)\n",
        "    soup = BeautifulSoup(page, 'html.parser')\n",
        "    '''\n",
        "    f=open(\"xyz.html\",\"w+\")\n",
        "    f.write(str(soup))\n",
        "    '''\n",
        "    #print(soup.prettify())\n",
        "    try:\n",
        "      div=soup.find_all('div',{'class':'am3QBf'})\n",
        "    except:\n",
        "      None \n",
        "    #print(div[0].text)\n",
        "    flag=0\n",
        "    try:\n",
        "      imp=div[0].find_all('div',{'class':'BNeawe deIvCb AP7Wnd'})\n",
        "    except:\n",
        "      imp=soup.find_all('div',{'class':'BNeawe s3v9rd AP7Wnd'})\n",
        "      flag=1\n",
        "    if len(imp[0].text)==1 or flag==1:\n",
        "      imp=imp[1].text\n",
        "    else:\n",
        "      imp=imp[0].text\n",
        "    #print(imp)\n",
        "    wiki = \"https://www.google.com/search?q=distance of \"+street+' to '+imp \n",
        "    wiki=wiki.replace(' ','%20')\n",
        "    #print(wiki)\n",
        "\n",
        "    page=requests.get(wiki).text\n",
        "\n",
        "    soup = BeautifulSoup(page, 'html.parser')\n",
        "    #print(soup.prettify())\n",
        "    #f=open(\"abc.html\",\"w+\")\n",
        "    #f.write(str(soup))\n",
        "    try:\n",
        "      div=soup.find_all('div',{'class':'BNeawe deIvCb AP7Wnd'})[0].text\n",
        "    except:\n",
        "      div=soup.find_all('div',{'class':'BNeawe s3v9rd AP7Wnd'})[0].text\n",
        "    #print(div)\n",
        "    div=div.replace('(','zzzz')\n",
        "    div=div.replace(')','zzzz')\n",
        "    import re\n",
        "    m=re.search('zzzz(.+?)zzzz', div).group(1)\n",
        "    if ' m' in m:\n",
        "      m = float(m.replace(' m',''))/1000\n",
        "    else:\n",
        "      m = float(m.replace(' km',''))\n",
        "    print(m)\n",
        "    \n",
        "  except:\n",
        "    print(' ')\n",
        "  c+=1"
      ]
    },
    {
      "cell_type": "code",
      "execution_count": null,
      "metadata": {
        "colab": {},
        "colab_type": "code",
        "id": "Ovj5NnMbJIOl"
      },
      "outputs": [],
      "source": []
    },
    {
      "cell_type": "code",
      "execution_count": null,
      "metadata": {
        "colab": {},
        "colab_type": "code",
        "id": "be94FTaRzKAR"
      },
      "outputs": [],
      "source": [
        "import pandas as pd\n",
        "import matplotlib.pyplot as plt\n",
        "import seaborn as sns\n",
        "from collections import Counter\n",
        "import random\n",
        "from tqdm import tqdm\n",
        "import numpy as np\n",
        "from sklearn.datasets.samples_generator import make_blobs\n",
        "from sklearn.cluster import SpectralClustering, AffinityPropagation"
      ]
    },
    {
      "cell_type": "code",
      "execution_count": null,
      "metadata": {
        "colab": {
          "base_uri": "https://localhost:8080/",
          "height": 680
        },
        "colab_type": "code",
        "id": "rahsxNhozXRp",
        "outputId": "05dfb886-18ac-4c46-bcaf-03289faf0b15"
      },
      "outputs": [
        {
          "name": "stdout",
          "output_type": "stream",
          "text": [
            "['major district road' 'district road' 'major district road'\n",
            " 'major district road' 'major district road' 'expressway'\n",
            " 'major district road' 'major district road' 'expressway' 'expressway'\n",
            " 'major district road' 'flyover' 'major district road'\n",
            " 'major district road' 'major district road' 'major district road'\n",
            " 'major district road' 'major district road' 'major district road'\n",
            " 'district road' 'district road' 'district road' 'district road'\n",
            " 'district road' 'district road' 'Ring road' 'major district road'\n",
            " 'district road' 'major district road' 'major district road'\n",
            " 'major district road' 'national highway' 'national highway'\n",
            " 'national highway' 'national highway' 'national highway'\n",
            " 'major district road' 'flyover' 'district road' 'flyover'\n",
            " 'major district road' 'major district road' 'district road' 'flyover'\n",
            " 'flyover' 'flyover' 'flyover' 'flyover' 'flyover' 'district road'\n",
            " 'district road' 'flyover' 'flyover' 'flyover' 'flyover'\n",
            " 'major district road' 'major district road' 'major district road'\n",
            " 'flyover' 'major district road' 'flyover' 'district' 'district'\n",
            " 'district' 'district' 'district' 'district' 'major district road'\n",
            " 'major district road' 'district' 'major district road'\n",
            " 'major district road' 'major district road' 'major district road'\n",
            " 'district road' 'district road' 'district road' 'major district road'\n",
            " 'district road' 'major district road' 'district road' 'district road'\n",
            " 'district road' 'major distict road' 'major district road'\n",
            " 'district road' 'major district road' 'district road' 'district road'\n",
            " 'district road' 'district road' 'district road' 'district road'\n",
            " 'district road' 'district road' 'district road' 'major district road'\n",
            " 'major district road' 'district road' 'district' 'major district road'\n",
            " 'major district road' 'major district road' 'major district road'\n",
            " 'district road' 'major district road' 'district' 'district' 'district'\n",
            " 'district' 'district road' 'district road' 'district road'\n",
            " 'major district road' 'major district road' 'major district road'\n",
            " 'major district road' 'major district road' 'major district road'\n",
            " 'major district road' 'major district road' 'major district road'\n",
            " 'major district road' 'major district road' 'major district road'\n",
            " 'major district road' 'major district road' 'major district road'\n",
            " 'major district road' 'major district road' 'major district road'\n",
            " 'major district road' 'major district road' 'major district road'\n",
            " 'major district road' 'major district road' 'major district road'\n",
            " 'major district road' 'major district road' 'major district road']\n"
          ]
        }
      ],
      "source": [
        " '''import numpy as np\n",
        "x = np.array([[10,20,30], [40,50,60]])\n",
        "y = np.array([[100], [200]])\n",
        "print(np.append(x, y, axis=1))'''\n",
        "import utils\n",
        "fin = data[:,1:6]\n",
        "print(fin[:,1])"
      ]
    },
    {
      "cell_type": "code",
      "execution_count": null,
      "metadata": {
        "colab": {},
        "colab_type": "code",
        "id": "5dQU6mpCbzuq"
      },
      "outputs": [],
      "source": [
        "from sklearn.preprocessing import LabelEncoder\n",
        "label_encoder = LabelEncoder()\n",
        "fin[:,1] = label_encoder.fit_transform(fin[:,1])"
      ]
    },
    {
      "cell_type": "code",
      "execution_count": null,
      "metadata": {
        "colab": {
          "base_uri": "https://localhost:8080/",
          "height": 1000
        },
        "colab_type": "code",
        "id": "h7YQz4XkcxiY",
        "outputId": "3c0c2fb9-d173-4c75-bcbb-14457a158122"
      },
      "outputs": [
        {
          "name": "stdout",
          "output_type": "stream",
          "text": [
            "[[1.2 6 857.0 2.5 582320.0]\n",
            " [5.1 2 2005.0 17.4 2292958.0]\n",
            " [5.7 6 2008.0 2.7 2292958.0]\n",
            " [0.27 6 857.0 2.6 582320.0]\n",
            " [2.4 6 857.0 0.39299999999999996 582320.0]\n",
            " [8.2 3 0.0 4.6 2543243.0]\n",
            " [13.0 6 0.0 13.3 1674714.0]\n",
            " [0.5 6 857.0 0.65 582320.0]\n",
            " [90.6 3 0.0 20.1 1674714.0]\n",
            " [6.1 3 0.0 4.8 1674714.0]\n",
            " [0.141 6 2314.0 45.0 2241624.0]\n",
            " [0.157 4 2762.0 4.2 2731929.0]\n",
            " [9.2 6 2314.0 18.2 2241624.0]\n",
            " [1.2 6 857.0 0.7 582320.0]\n",
            " [0.7 6 857.0 1.5 582320.0]\n",
            " [3.5 6 857.0 1.1 582320.0]\n",
            " [1.6 6 857.0 2.5 582320.0]\n",
            " [3.2 6 2762.0 14.8 2731929.0]\n",
            " [1.1 6 1684.0 4.0 3656539.0]\n",
            " [2.0 2 857.0 2.5 582320.0]\n",
            " [1.3 2 857.0 2.0 582320.0]\n",
            " [0.20199999999999999 2 857.0 0.5 582320.0]\n",
            " [0.47200000000000003 2 2005.0 0.792 2292958.0]\n",
            " [0.047 2 857.0 0.23 582320.0]\n",
            " [1.2 2 857.0 1.4 582320.0]\n",
            " [2.1 0 0.0 14.2 0.0]\n",
            " [2.6 6 857.0 1.7 582320.0]\n",
            " [0.55 2 857.0 0.4 582320.0]\n",
            " [1.0 6 857.0 1.6 582320.0]\n",
            " [0.7859999999999999 6 0.0 40.0 2731929.0]\n",
            " [1.6 6 857.0 1.6 582320.0]\n",
            " [197.0 7 2762.0 600.0 2731929.0]\n",
            " [600.0 7 2762.0 600.0 2731929.0]\n",
            " [600.0 7 2005.0 600.0 2292958.0]\n",
            " [600.0 7 2005.0 600.0 2292958.0]\n",
            " [600.0 7 2005.0 600.0 2292958.0]\n",
            " [7.9 6 2762.0 6.9 2731929.0]\n",
            " [0.55 4 857.0 2.4 582320.0]\n",
            " [0.593 2 857.0 5.9 582320.0]\n",
            " [0.05 4 857.0 1.2 582320.0]\n",
            " [1.9 6 1684.0 2.9 3656539.0]\n",
            " [15.0 6 716.0 10.8 887978.0]\n",
            " [1.4 2 2122.0 2.5 2543243.0]\n",
            " [2.3 4 1684.0 7.2 3656539.0]\n",
            " [3.6 4 2122.0 0.9 2543243.0]\n",
            " [3.5 4 1909.0 2.8 1709346.0]\n",
            " [1.9 4 2122.0 24.8 2543243.0]\n",
            " [0.26 4 2122.0 4.0 2543243.0]\n",
            " [0.055999999999999994 4 2122.0 0.85 2543243.0]\n",
            " [5.7 2 2005.0 5.6 2292958.0]\n",
            " [1.9 2 2005.0 5.7 2292958.0]\n",
            " [1.0 4 193.0 5.6 142004.0]\n",
            " [2.0 4 2005.0 0.1 2292958.0]\n",
            " [0.1 4 2005.0 2.9 2292958.0]\n",
            " [1.0 4 0.0 3.0 582320.0]\n",
            " [1.0 6 857.0 4.8 582320.0]\n",
            " [2.0 6 2762.0 1.8 2731929.0]\n",
            " [0.294 6 2762.0 1.3 2731929.0]\n",
            " [2.2 4 2762.0 2.6 2731929.0]\n",
            " [0.568 6 2762.0 2.9 2731929.0]\n",
            " [3.2 4 2762.0 5.2 2731929.0]\n",
            " [1.3 1 2762.0 5.2 2731929.0]\n",
            " [0.75 1 857.0 0.3 582320.0]\n",
            " [1.2 1 857.0 0.7 582320.0]\n",
            " [1.1 1 857.0 1.5 582320.0]\n",
            " [1.3 1 857.0 2.2 582320.0]\n",
            " [1.7 1 857.0 1.5 582320.0]\n",
            " [1.3 6 193.0 5.7 142004.0]\n",
            " [1.5 6 857.0 1.6 582320.0]\n",
            " [0.35 1 857.0 2.5 582320.0]\n",
            " [0.623 6 857.0 1.1 582320.0]\n",
            " [2.5 6 857.0 0.7 582320.0]\n",
            " [2.0 6 857.0 0.6 582320.0]\n",
            " [0.134 6 857.0 0.7 582320.0]\n",
            " [2.0 2 2762.0 0.3 2731929.0]\n",
            " [1.0 2 857.0 0.3 582320.0]\n",
            " [0.35 2 857.0 1.7 582320.0]\n",
            " [2.3 6 2005.0 0.6 2292958.0]\n",
            " [0.05 2 1684.0 0.5 3656539.0]\n",
            " [4.6 6 1909.0 31.1 1709346.0]\n",
            " [1.3 2 2005.0 5.9 2292958.0]\n",
            " [3.5 2 2005.0 2.0 2292958.0]\n",
            " [1.5 2 857.0 2.0 582320.0]\n",
            " [11.0 5 857.0 0.4 582320.0]\n",
            " [0.6 6 857.0 0.5 582320.0]\n",
            " [1.1 2 857.0 0.85 582320.0]\n",
            " [1.5 6 2762.0 0.4 2731929.0]\n",
            " [0.95 2 857.0 0.3 582320.0]\n",
            " [4.0 2 857.0 523.8 582320.0]\n",
            " [0.55 2 857.0 4.1 582320.0]\n",
            " [1.0 2 857.0 0.7 582320.0]\n",
            " [12.0 2 2762.0 2.2 2731929.0]\n",
            " [3.0 2 2005.0 0.4 2292958.0]\n",
            " [11.0 2 857.0 0.4 582320.0]\n",
            " [10.0 2 857.0 0.9 582320.0]\n",
            " [9.0 2 2762.0 1.1 2731929.0]\n",
            " [6.1 6 2005.0 0.156 2292958.0]\n",
            " [0.55 6 857.0 0.2 582320.0]\n",
            " [0.66 2 2762.0 0.071 2731929.0]\n",
            " [1.1 1 857.0 1.6 582320.0]\n",
            " [5.5 6 2122.0 1.1 2543243.0]\n",
            " [0.1 6 857.0 0.6 582320.0]\n",
            " [1.0 6 0.0 3.0 116000.0]\n",
            " [4.5 6 857.0 4.6 582320.0]\n",
            " [0.2 2 716.0 7.0 887978.0]\n",
            " [2.9 6 857.0 3.0 582320.0]\n",
            " [1.0 1 857.0 0.75 582320.0]\n",
            " [0.45 1 2005.0 1.2 2292958.0]\n",
            " [9.9 1 857.0 0.24 582320.0]\n",
            " [2.4 1 2005.0 1.163 2292958.0]\n",
            " [0.8 2 2122.0 0.06 2543243.0]\n",
            " [2.0 2 857.0 0.055 582320.0]\n",
            " [3.0 2 857.0 0.044000000000000004 582320.0]\n",
            " [1.5 6 0.0 1.2 116000.0]\n",
            " [1.0 6 1684.0 0.45 3656539.0]\n",
            " [26.5 6 2762.0 4.8 2731929.0]\n",
            " [0.55 6 2005.0 1.1 2292958.0]\n",
            " [5.0 6 2005.0 8.8 2292958.0]\n",
            " [3.2 6 2005.0 6.5 2292958.0]\n",
            " [0.152 6 2762.0 0.45 2731929.0]\n",
            " [0.75 6 2762.0 1.8 2731929.0]\n",
            " [0.16 6 2762.0 6.7 2731929.0]\n",
            " [0.455 6 2005.0 0.8 2292958.0]\n",
            " [0.8 6 857.0 1.1 582320.0]\n",
            " [1.0 6 0.0 2.7 116000.0]\n",
            " [0.935 6 2005.0 1.7 2292958.0]\n",
            " [1.0 6 857.0 0.6 582320.0]\n",
            " [1.0 6 2762.0 1.3 2731929.0]\n",
            " [2.0 6 857.0 0.5 582320.0]\n",
            " [0.28 6 857.0 0.4 582320.0]\n",
            " [1.0 6 2122.0 0.2 2543243.0]\n",
            " [1.0 6 2005.0 1.2 2292958.0]\n",
            " [8.1 6 2005.0 10.5 2292958.0]\n",
            " [0.278 6 857.0 0.8 582320.0]\n",
            " [1.2 6 857.0 5.5 582320.0]\n",
            " [2.0 6 2005.0 0.9 2292958.0]\n",
            " [0.044000000000000004 6 857.0 0.3 582320.0]\n",
            " [3.2 6 857.0 0.1 582320.0]\n",
            " [0.6 6 2005.0 0.7 2292958.0]\n",
            " [2.8 6 2005.0 1.1 2292958.0]]\n"
          ]
        }
      ],
      "source": [
        "print(fin)"
      ]
    },
    {
      "cell_type": "code",
      "execution_count": null,
      "metadata": {
        "colab": {
          "base_uri": "https://localhost:8080/",
          "height": 71
        },
        "colab_type": "code",
        "id": "xPLRru38zJ5h",
        "outputId": "cc745a48-a305-47c4-9ea8-2dee2e256611"
      },
      "outputs": [
        {
          "name": "stderr",
          "output_type": "stream",
          "text": [
            "/usr/local/lib/python3.6/dist-packages/sklearn/manifold/spectral_embedding_.py:235: UserWarning: Graph is not fully connected, spectral embedding may not work as expected.\n",
            "  warnings.warn(\"Graph is not fully connected, spectral embedding\"\n"
          ]
        }
      ],
      "source": [
        "clustering = SpectralClustering(n_clusters=4, assign_labels=\"discretize\", random_state=0).fit(fin)\n",
        "y_pred = clustering.labels_"
      ]
    },
    {
      "cell_type": "code",
      "execution_count": null,
      "metadata": {
        "colab": {
          "base_uri": "https://localhost:8080/",
          "height": 1000
        },
        "colab_type": "code",
        "id": "a8Eqwr4AzJsD",
        "outputId": "9631eec4-4c24-450f-dde6-d69d9f7dafe7"
      },
      "outputs": [
        {
          "name": "stdout",
          "output_type": "stream",
          "text": [
            "3\n",
            "2\n",
            "1\n",
            "3\n",
            "3\n",
            "3\n",
            "1\n",
            "3\n",
            "3\n",
            "1\n",
            "3\n",
            "0\n",
            "0\n",
            "3\n",
            "3\n",
            "3\n",
            "3\n",
            "0\n",
            "1\n",
            "3\n",
            "3\n",
            "3\n",
            "1\n",
            "3\n",
            "3\n",
            "3\n",
            "3\n",
            "3\n",
            "3\n",
            "2\n",
            "3\n",
            "3\n",
            "2\n",
            "0\n",
            "0\n",
            "0\n",
            "0\n",
            "3\n",
            "3\n",
            "3\n",
            "1\n",
            "0\n",
            "1\n",
            "1\n",
            "1\n",
            "3\n",
            "2\n",
            "1\n",
            "1\n",
            "1\n",
            "1\n",
            "1\n",
            "1\n",
            "1\n",
            "2\n",
            "3\n",
            "0\n",
            "0\n",
            "0\n",
            "0\n",
            "0\n",
            "0\n",
            "3\n",
            "3\n",
            "3\n",
            "3\n",
            "3\n",
            "1\n",
            "3\n",
            "3\n",
            "3\n",
            "3\n",
            "3\n",
            "3\n",
            "0\n",
            "3\n",
            "3\n",
            "1\n",
            "1\n",
            "2\n",
            "1\n",
            "1\n",
            "3\n",
            "1\n",
            "3\n",
            "3\n",
            "0\n",
            "3\n",
            "3\n",
            "3\n",
            "3\n",
            "0\n",
            "1\n",
            "1\n",
            "1\n",
            "0\n",
            "1\n",
            "3\n",
            "0\n",
            "3\n",
            "1\n",
            "3\n",
            "1\n",
            "3\n",
            "0\n",
            "3\n",
            "3\n",
            "1\n",
            "1\n",
            "1\n",
            "1\n",
            "3\n",
            "3\n",
            "1\n",
            "1\n",
            "2\n",
            "1\n",
            "2\n",
            "2\n",
            "0\n",
            "0\n",
            "0\n",
            "1\n",
            "3\n",
            "1\n",
            "1\n",
            "3\n",
            "0\n",
            "3\n",
            "3\n",
            "1\n",
            "1\n",
            "2\n",
            "3\n",
            "3\n",
            "1\n",
            "3\n",
            "3\n",
            "1\n",
            "1\n"
          ]
        }
      ],
      "source": [
        "for i in y_pred:\n",
        "  print(i)"
      ]
    },
    {
      "cell_type": "code",
      "execution_count": null,
      "metadata": {
        "colab": {
          "base_uri": "https://localhost:8080/",
          "height": 68
        },
        "colab_type": "code",
        "id": "XzMYcEpvUnWq",
        "outputId": "0f798bed-2a69-4bb1-c3f0-c10451a02642"
      },
      "outputs": [
        {
          "data": {
            "text/plain": [
              "KNeighborsClassifier(algorithm='auto', leaf_size=30, metric='minkowski',\n",
              "                     metric_params=None, n_jobs=None, n_neighbors=1, p=2,\n",
              "                     weights='uniform')"
            ]
          },
          "execution_count": 108,
          "metadata": {
            "tags": []
          },
          "output_type": "execute_result"
        }
      ],
      "source": [
        "# k nearest neighbors\n",
        "from sklearn.neighbors import KNeighborsClassifier\n",
        "neigh = KNeighborsClassifier(n_neighbors=1)\n",
        "neigh.fit(fin, y_pred) \n",
        "print(neigh.predict([[1.6,4,550,3,582320.0]]))"
      ]
    },
    {
      "cell_type": "code",
      "execution_count": null,
      "metadata": {
        "colab": {
          "base_uri": "https://localhost:8080/",
          "height": 34
        },
        "colab_type": "code",
        "id": "k30q0Dvqg0T9",
        "outputId": "b352c305-a84d-44be-9b7c-3f46c0532be0"
      },
      "outputs": [
        {
          "name": "stdout",
          "output_type": "stream",
          "text": [
            "[[1.6, 4, 550, 3, 582320.0]]\n"
          ]
        }
      ],
      "source": [
        "import json\n",
        "d=[[1.6,4,550,3,582320.0]]\n",
        "d=json.dumps(d)\n",
        "print(d)"
      ]
    },
    {
      "cell_type": "code",
      "execution_count": null,
      "metadata": {
        "colab": {},
        "colab_type": "code",
        "id": "L0W_kaPim5BM"
      },
      "outputs": [],
      "source": []
    }
  ],
  "metadata": {
    "colab": {
      "collapsed_sections": [],
      "name": "shecure_webscrape_kmeans.ipynb",
      "provenance": []
    },
    "kernelspec": {
      "display_name": "Python 3",
      "name": "python3"
    }
  },
  "nbformat": 4,
  "nbformat_minor": 0
}
