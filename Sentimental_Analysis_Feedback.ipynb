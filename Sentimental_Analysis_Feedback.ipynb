{
  "nbformat": 4,
  "nbformat_minor": 0,
  "metadata": {
    "colab": {
      "provenance": []
    },
    "kernelspec": {
      "name": "python3",
      "display_name": "Python 3"
    },
    "language_info": {
      "name": "python"
    }
  },
  "cells": [
    {
      "cell_type": "code",
      "execution_count": null,
      "metadata": {
        "id": "FetiRibGYOMu",
        "outputId": "d7676092-549a-4b16-9af0-f45f95835649",
        "colab": {
          "base_uri": "https://localhost:8080/"
        }
      },
      "outputs": [
        {
          "output_type": "stream",
          "name": "stderr",
          "text": [
            "[nltk_data] Downloading package stopwords to /root/nltk_data...\n",
            "[nltk_data]   Package stopwords is already up-to-date!\n"
          ]
        },
        {
          "output_type": "execute_result",
          "data": {
            "text/plain": [
              "True"
            ]
          },
          "metadata": {},
          "execution_count": 29
        }
      ],
      "source": [
        "import nltk\n",
        "import pandas as pd\n",
        "import numpy as np\n",
        "import math\n",
        "from nltk import pos_tag\n",
        "import matplotlib.pyplot as plt\n",
        "nltk.download('stopwords')"
      ]
    },
    {
      "cell_type": "code",
      "source": [
        "from sklearn import datasets\n",
        "from nltk.corpus import stopwords\n",
        "import random\n",
        "import string\n",
        "from nltk.stem import WordNetLemmatizer\n",
        "from nltk.corpus import wordnet\n",
        "from nltk.tokenize import word_tokenize,sent_tokenize\n",
        "from nltk.tokenize import TreebankWordTokenizer\n",
        "import pickle"
      ],
      "metadata": {
        "id": "8p7QAMg1YO9d"
      },
      "execution_count": null,
      "outputs": []
    },
    {
      "cell_type": "code",
      "source": [
        "data=pd.read_excel('FeedbackDataset.xlsx')\n",
        "data=np.array(data)\n",
        "random.shuffle(data)\n",
        "data=pd.DataFrame(data)\n",
        "data"
      ],
      "metadata": {
        "colab": {
          "base_uri": "https://localhost:8080/",
          "height": 423
        },
        "id": "XsyPjSt4fQ7c",
        "outputId": "670e1272-dd8c-401e-96c6-64ad6c4b8f27"
      },
      "execution_count": null,
      "outputs": [
        {
          "output_type": "execute_result",
          "data": {
            "text/plain": [
              "                                                    0  1\n",
              "0   It was a good experience. I like it. It was no...  0\n",
              "1                                It was a busy route.  0\n",
              "2                                It was a busy route.  0\n",
              "3   Good lighting conditions, moderate amount of p...  0\n",
              "4                                   Safe, comfortable  0\n",
              "..                                                ... ..\n",
              "56                                  It was not good .  0\n",
              "57  Women are free to go anywhere , it doesn't dep...  0\n",
              "58  The street lights weren't working. There were ...  1\n",
              "59  There is no such route to be described as safe...  0\n",
              "60                                  Happens everyday   0\n",
              "\n",
              "[61 rows x 2 columns]"
            ],
            "text/html": [
              "\n",
              "  <div id=\"df-12841efa-3959-4709-a937-b2ffead404ce\">\n",
              "    <div class=\"colab-df-container\">\n",
              "      <div>\n",
              "<style scoped>\n",
              "    .dataframe tbody tr th:only-of-type {\n",
              "        vertical-align: middle;\n",
              "    }\n",
              "\n",
              "    .dataframe tbody tr th {\n",
              "        vertical-align: top;\n",
              "    }\n",
              "\n",
              "    .dataframe thead th {\n",
              "        text-align: right;\n",
              "    }\n",
              "</style>\n",
              "<table border=\"1\" class=\"dataframe\">\n",
              "  <thead>\n",
              "    <tr style=\"text-align: right;\">\n",
              "      <th></th>\n",
              "      <th>0</th>\n",
              "      <th>1</th>\n",
              "    </tr>\n",
              "  </thead>\n",
              "  <tbody>\n",
              "    <tr>\n",
              "      <th>0</th>\n",
              "      <td>It was a good experience. I like it. It was no...</td>\n",
              "      <td>0</td>\n",
              "    </tr>\n",
              "    <tr>\n",
              "      <th>1</th>\n",
              "      <td>It was a busy route.</td>\n",
              "      <td>0</td>\n",
              "    </tr>\n",
              "    <tr>\n",
              "      <th>2</th>\n",
              "      <td>It was a busy route.</td>\n",
              "      <td>0</td>\n",
              "    </tr>\n",
              "    <tr>\n",
              "      <th>3</th>\n",
              "      <td>Good lighting conditions, moderate amount of p...</td>\n",
              "      <td>0</td>\n",
              "    </tr>\n",
              "    <tr>\n",
              "      <th>4</th>\n",
              "      <td>Safe, comfortable</td>\n",
              "      <td>0</td>\n",
              "    </tr>\n",
              "    <tr>\n",
              "      <th>...</th>\n",
              "      <td>...</td>\n",
              "      <td>...</td>\n",
              "    </tr>\n",
              "    <tr>\n",
              "      <th>56</th>\n",
              "      <td>It was not good .</td>\n",
              "      <td>0</td>\n",
              "    </tr>\n",
              "    <tr>\n",
              "      <th>57</th>\n",
              "      <td>Women are free to go anywhere , it doesn't dep...</td>\n",
              "      <td>0</td>\n",
              "    </tr>\n",
              "    <tr>\n",
              "      <th>58</th>\n",
              "      <td>The street lights weren't working. There were ...</td>\n",
              "      <td>1</td>\n",
              "    </tr>\n",
              "    <tr>\n",
              "      <th>59</th>\n",
              "      <td>There is no such route to be described as safe...</td>\n",
              "      <td>0</td>\n",
              "    </tr>\n",
              "    <tr>\n",
              "      <th>60</th>\n",
              "      <td>Happens everyday</td>\n",
              "      <td>0</td>\n",
              "    </tr>\n",
              "  </tbody>\n",
              "</table>\n",
              "<p>61 rows × 2 columns</p>\n",
              "</div>\n",
              "      <button class=\"colab-df-convert\" onclick=\"convertToInteractive('df-12841efa-3959-4709-a937-b2ffead404ce')\"\n",
              "              title=\"Convert this dataframe to an interactive table.\"\n",
              "              style=\"display:none;\">\n",
              "        \n",
              "  <svg xmlns=\"http://www.w3.org/2000/svg\" height=\"24px\"viewBox=\"0 0 24 24\"\n",
              "       width=\"24px\">\n",
              "    <path d=\"M0 0h24v24H0V0z\" fill=\"none\"/>\n",
              "    <path d=\"M18.56 5.44l.94 2.06.94-2.06 2.06-.94-2.06-.94-.94-2.06-.94 2.06-2.06.94zm-11 1L8.5 8.5l.94-2.06 2.06-.94-2.06-.94L8.5 2.5l-.94 2.06-2.06.94zm10 10l.94 2.06.94-2.06 2.06-.94-2.06-.94-.94-2.06-.94 2.06-2.06.94z\"/><path d=\"M17.41 7.96l-1.37-1.37c-.4-.4-.92-.59-1.43-.59-.52 0-1.04.2-1.43.59L10.3 9.45l-7.72 7.72c-.78.78-.78 2.05 0 2.83L4 21.41c.39.39.9.59 1.41.59.51 0 1.02-.2 1.41-.59l7.78-7.78 2.81-2.81c.8-.78.8-2.07 0-2.86zM5.41 20L4 18.59l7.72-7.72 1.47 1.35L5.41 20z\"/>\n",
              "  </svg>\n",
              "      </button>\n",
              "      \n",
              "  <style>\n",
              "    .colab-df-container {\n",
              "      display:flex;\n",
              "      flex-wrap:wrap;\n",
              "      gap: 12px;\n",
              "    }\n",
              "\n",
              "    .colab-df-convert {\n",
              "      background-color: #E8F0FE;\n",
              "      border: none;\n",
              "      border-radius: 50%;\n",
              "      cursor: pointer;\n",
              "      display: none;\n",
              "      fill: #1967D2;\n",
              "      height: 32px;\n",
              "      padding: 0 0 0 0;\n",
              "      width: 32px;\n",
              "    }\n",
              "\n",
              "    .colab-df-convert:hover {\n",
              "      background-color: #E2EBFA;\n",
              "      box-shadow: 0px 1px 2px rgba(60, 64, 67, 0.3), 0px 1px 3px 1px rgba(60, 64, 67, 0.15);\n",
              "      fill: #174EA6;\n",
              "    }\n",
              "\n",
              "    [theme=dark] .colab-df-convert {\n",
              "      background-color: #3B4455;\n",
              "      fill: #D2E3FC;\n",
              "    }\n",
              "\n",
              "    [theme=dark] .colab-df-convert:hover {\n",
              "      background-color: #434B5C;\n",
              "      box-shadow: 0px 1px 3px 1px rgba(0, 0, 0, 0.15);\n",
              "      filter: drop-shadow(0px 1px 2px rgba(0, 0, 0, 0.3));\n",
              "      fill: #FFFFFF;\n",
              "    }\n",
              "  </style>\n",
              "\n",
              "      <script>\n",
              "        const buttonEl =\n",
              "          document.querySelector('#df-12841efa-3959-4709-a937-b2ffead404ce button.colab-df-convert');\n",
              "        buttonEl.style.display =\n",
              "          google.colab.kernel.accessAllowed ? 'block' : 'none';\n",
              "\n",
              "        async function convertToInteractive(key) {\n",
              "          const element = document.querySelector('#df-12841efa-3959-4709-a937-b2ffead404ce');\n",
              "          const dataTable =\n",
              "            await google.colab.kernel.invokeFunction('convertToInteractive',\n",
              "                                                     [key], {});\n",
              "          if (!dataTable) return;\n",
              "\n",
              "          const docLinkHtml = 'Like what you see? Visit the ' +\n",
              "            '<a target=\"_blank\" href=https://colab.research.google.com/notebooks/data_table.ipynb>data table notebook</a>'\n",
              "            + ' to learn more about interactive tables.';\n",
              "          element.innerHTML = '';\n",
              "          dataTable['output_type'] = 'display_data';\n",
              "          await google.colab.output.renderOutput(dataTable, element);\n",
              "          const docLink = document.createElement('div');\n",
              "          docLink.innerHTML = docLinkHtml;\n",
              "          element.appendChild(docLink);\n",
              "        }\n",
              "      </script>\n",
              "    </div>\n",
              "  </div>\n",
              "  "
            ]
          },
          "metadata": {},
          "execution_count": 31
        }
      ]
    },
    {
      "cell_type": "code",
      "source": [
        "y_train=data[1]\n",
        "x_train=data.loc[:,[0]]\n",
        "x_train.iloc[:,0]"
      ],
      "metadata": {
        "colab": {
          "base_uri": "https://localhost:8080/"
        },
        "id": "PJd5y_n8ffKK",
        "outputId": "c77e9238-23b0-4414-a7f3-5316845922a2"
      },
      "execution_count": null,
      "outputs": [
        {
          "output_type": "execute_result",
          "data": {
            "text/plain": [
              "0     It was a good experience. I like it. It was no...\n",
              "1                                  It was a busy route.\n",
              "2                                  It was a busy route.\n",
              "3     Good lighting conditions, moderate amount of p...\n",
              "4                                     Safe, comfortable\n",
              "                            ...                        \n",
              "56                                    It was not good .\n",
              "57    Women are free to go anywhere , it doesn't dep...\n",
              "58    The street lights weren't working. There were ...\n",
              "59    There is no such route to be described as safe...\n",
              "60                                    Happens everyday \n",
              "Name: 0, Length: 61, dtype: object"
            ]
          },
          "metadata": {},
          "execution_count": 32
        }
      ]
    },
    {
      "cell_type": "code",
      "source": [
        "stopWords = stopwords.words('english')\n",
        "punct=list(string.punctuation)\n",
        "lemm = WordNetLemmatizer()\n",
        "stopWords=stopWords+punct\n",
        "stopWords.remove('no')\n",
        "stopWords.remove('nor')\n",
        "stopWords.remove('not')\n",
        "stopWords"
      ],
      "metadata": {
        "colab": {
          "base_uri": "https://localhost:8080/"
        },
        "id": "h0uD-dJJgWUf",
        "outputId": "9e259bba-42b9-4749-818a-54a91e0a2e1b"
      },
      "execution_count": null,
      "outputs": [
        {
          "output_type": "execute_result",
          "data": {
            "text/plain": [
              "['i',\n",
              " 'me',\n",
              " 'my',\n",
              " 'myself',\n",
              " 'we',\n",
              " 'our',\n",
              " 'ours',\n",
              " 'ourselves',\n",
              " 'you',\n",
              " \"you're\",\n",
              " \"you've\",\n",
              " \"you'll\",\n",
              " \"you'd\",\n",
              " 'your',\n",
              " 'yours',\n",
              " 'yourself',\n",
              " 'yourselves',\n",
              " 'he',\n",
              " 'him',\n",
              " 'his',\n",
              " 'himself',\n",
              " 'she',\n",
              " \"she's\",\n",
              " 'her',\n",
              " 'hers',\n",
              " 'herself',\n",
              " 'it',\n",
              " \"it's\",\n",
              " 'its',\n",
              " 'itself',\n",
              " 'they',\n",
              " 'them',\n",
              " 'their',\n",
              " 'theirs',\n",
              " 'themselves',\n",
              " 'what',\n",
              " 'which',\n",
              " 'who',\n",
              " 'whom',\n",
              " 'this',\n",
              " 'that',\n",
              " \"that'll\",\n",
              " 'these',\n",
              " 'those',\n",
              " 'am',\n",
              " 'is',\n",
              " 'are',\n",
              " 'was',\n",
              " 'were',\n",
              " 'be',\n",
              " 'been',\n",
              " 'being',\n",
              " 'have',\n",
              " 'has',\n",
              " 'had',\n",
              " 'having',\n",
              " 'do',\n",
              " 'does',\n",
              " 'did',\n",
              " 'doing',\n",
              " 'a',\n",
              " 'an',\n",
              " 'the',\n",
              " 'and',\n",
              " 'but',\n",
              " 'if',\n",
              " 'or',\n",
              " 'because',\n",
              " 'as',\n",
              " 'until',\n",
              " 'while',\n",
              " 'of',\n",
              " 'at',\n",
              " 'by',\n",
              " 'for',\n",
              " 'with',\n",
              " 'about',\n",
              " 'against',\n",
              " 'between',\n",
              " 'into',\n",
              " 'through',\n",
              " 'during',\n",
              " 'before',\n",
              " 'after',\n",
              " 'above',\n",
              " 'below',\n",
              " 'to',\n",
              " 'from',\n",
              " 'up',\n",
              " 'down',\n",
              " 'in',\n",
              " 'out',\n",
              " 'on',\n",
              " 'off',\n",
              " 'over',\n",
              " 'under',\n",
              " 'again',\n",
              " 'further',\n",
              " 'then',\n",
              " 'once',\n",
              " 'here',\n",
              " 'there',\n",
              " 'when',\n",
              " 'where',\n",
              " 'why',\n",
              " 'how',\n",
              " 'all',\n",
              " 'any',\n",
              " 'both',\n",
              " 'each',\n",
              " 'few',\n",
              " 'more',\n",
              " 'most',\n",
              " 'other',\n",
              " 'some',\n",
              " 'such',\n",
              " 'only',\n",
              " 'own',\n",
              " 'same',\n",
              " 'so',\n",
              " 'than',\n",
              " 'too',\n",
              " 'very',\n",
              " 's',\n",
              " 't',\n",
              " 'can',\n",
              " 'will',\n",
              " 'just',\n",
              " 'don',\n",
              " \"don't\",\n",
              " 'should',\n",
              " \"should've\",\n",
              " 'now',\n",
              " 'd',\n",
              " 'll',\n",
              " 'm',\n",
              " 'o',\n",
              " 're',\n",
              " 've',\n",
              " 'y',\n",
              " 'ain',\n",
              " 'aren',\n",
              " \"aren't\",\n",
              " 'couldn',\n",
              " \"couldn't\",\n",
              " 'didn',\n",
              " \"didn't\",\n",
              " 'doesn',\n",
              " \"doesn't\",\n",
              " 'hadn',\n",
              " \"hadn't\",\n",
              " 'hasn',\n",
              " \"hasn't\",\n",
              " 'haven',\n",
              " \"haven't\",\n",
              " 'isn',\n",
              " \"isn't\",\n",
              " 'ma',\n",
              " 'mightn',\n",
              " \"mightn't\",\n",
              " 'mustn',\n",
              " \"mustn't\",\n",
              " 'needn',\n",
              " \"needn't\",\n",
              " 'shan',\n",
              " \"shan't\",\n",
              " 'shouldn',\n",
              " \"shouldn't\",\n",
              " 'wasn',\n",
              " \"wasn't\",\n",
              " 'weren',\n",
              " \"weren't\",\n",
              " 'won',\n",
              " \"won't\",\n",
              " 'wouldn',\n",
              " \"wouldn't\",\n",
              " '!',\n",
              " '\"',\n",
              " '#',\n",
              " '$',\n",
              " '%',\n",
              " '&',\n",
              " \"'\",\n",
              " '(',\n",
              " ')',\n",
              " '*',\n",
              " '+',\n",
              " ',',\n",
              " '-',\n",
              " '.',\n",
              " '/',\n",
              " ':',\n",
              " ';',\n",
              " '<',\n",
              " '=',\n",
              " '>',\n",
              " '?',\n",
              " '@',\n",
              " '[',\n",
              " '\\\\',\n",
              " ']',\n",
              " '^',\n",
              " '_',\n",
              " '`',\n",
              " '{',\n",
              " '|',\n",
              " '}',\n",
              " '~']"
            ]
          },
          "metadata": {},
          "execution_count": 33
        }
      ]
    },
    {
      "cell_type": "code",
      "source": [
        "def all_words(doc):\n",
        "    l1=(word_tokenize(doc))\n",
        "    final_doc=[]\n",
        "    for l in l1:\n",
        "        l=''.join([i for i in l if not i.isdigit()])\n",
        "        for c in string.punctuation:\n",
        "           l=l.replace(c,\"\")\n",
        "        if len(l)>=3:\n",
        "            if l.lower() not in stopWords:\n",
        "                final_doc.append(l.lower())\n",
        "    return(final_doc)"
      ],
      "metadata": {
        "id": "LQYLi8eBgZCw"
      },
      "execution_count": null,
      "outputs": []
    },
    {
      "cell_type": "code",
      "source": [
        "nltk.download('punkt')\n",
        "# data=[]\n",
        "# for i in range(x_train.shape[0]):\n",
        "#     sentence=all_words(x_train.iloc[i,0])\n",
        "#     data.append((\" \".join(sentence)))\n",
        "# data\n",
        "data=[]\n",
        "for i in range(x_train.shape[0]):\n",
        "    print(x_train.iloc[i,0])  # add this line to check input\n",
        "    sentence=all_words(x_train.iloc[i,0])\n",
        "    data.append((\" \".join(sentence)))\n",
        "data\n"
      ],
      "metadata": {
        "colab": {
          "base_uri": "https://localhost:8080/"
        },
        "id": "T9EXDGKYglOZ",
        "outputId": "52e2b3dd-5f96-4bc3-c486-b14d8ff783a8"
      },
      "execution_count": null,
      "outputs": [
        {
          "output_type": "stream",
          "name": "stdout",
          "text": [
            "It was a good experience. I like it. It was not lit although.\n",
            "It was a busy route.\n",
            "It was a busy route.\n",
            "Good lighting conditions, moderate amount of pedestrians, good public transport connectivity.\n",
            "Safe, comfortable\n",
            "It was a busy route.\n",
            "It was not good .\n",
            "What remark in feedback would you give to express that a particular route is unsafe for women?\n",
            "Unsafe, uncomfortable\n",
            "Safe, comfortable\n",
            "Easily available public transport.\n",
            "Easily available public transport.\n",
            "Prior history of assaults, no lights, isolated area with low human settlements\n",
            "The place is gloomy, dark, and goes to a jungle\n",
            "The route was not well lit.It is unsecure to travel at night.\n",
            "It was a busy route.\n",
            "The place is gloomy, dark, and goes to a jungle\n",
            "Compromised security on this route \n",
            "Not Working street lamps, uncrowded route\n",
            "This won't be so safe for this time of the day with that dress right now. PS I am a feminist this is just honest answers to convey something while bieng funny and not very grim or serious  \n",
            "Den of thieves and people of such sorts, sunsaan\n",
            "It was a busy route.\n",
            "Easily available public transport.\n",
            "Prior history of assaults, no lights, isolated area with low human settlements\n",
            "Dim light conditions, poor signal reception, Close to tobacco and alcohol shops\n",
            "Compromised security on this route \n",
            "Compromised security on this route \n",
            "Compromised security on this route \n",
            "Den of thieves and people of such sorts, sunsaan\n",
            "There is no such route to be described as safe or unsafe we need to change the mentality of people.\n",
            "The place is gloomy, dark, and goes to a jungle\n",
            "A caution sign\n",
            "Same as above. \n",
            "Happens everyday \n",
            "The place is gloomy, dark, and goes to a jungle\n",
            "The route is unused or very shady area. \n",
            "Compromised security on this route \n",
            "Safe, comfortable\n",
            "Good lighting conditions, moderate amount of pedestrians, good public transport connectivity.\n",
            "Route with no street lights.\n",
            "Vulger route\n",
            "if that particular place is shady means that route does not have proper light and if people don't stroll around that place so often\n",
            "If it has completely ill-lighting irrespective of presence of CCTV camera.\n",
            "There is no such route to be described as safe or unsafe we need to change the mentality of people.\n",
            "Compromised security on this route \n",
            "Less lights , less people \n",
            "Easily available public transport.\n",
            "This won't be so safe for this time of the day with that dress right now. PS I am a feminist this is just honest answers to convey something while bieng funny and not very grim or serious  \n",
            "Same as above. \n",
            "This won't be so safe for this time of the day with that dress right now. PS I am a feminist this is just honest answers to convey something while bieng funny and not very grim or serious  \n",
            "Women are free to go anywhere , it doesn't depend on the route it depends on mentality of the society .when this change everything will be fine.\n",
            "It's boys who are unsafe dammnit from you wamens. Stop no one gives a shit\n",
            "Unsafe, uncomfortable\n",
            "Unsafe, uncomfortable\n",
            "If it has completely ill-lighting irrespective of presence of CCTV camera.\n",
            "Lack of police service\n",
            "It was not good .\n",
            "Women are free to go anywhere , it doesn't depend on the route it depends on mentality of the society .when this change everything will be fine.\n",
            "The street lights weren't working. There were no cameras. Poor mobile network and no WiFi. Also it was narrow and lonely.\n",
            "There is no such route to be described as safe or unsafe we need to change the mentality of people.\n",
            "Happens everyday \n"
          ]
        },
        {
          "output_type": "stream",
          "name": "stderr",
          "text": [
            "[nltk_data] Downloading package punkt to /root/nltk_data...\n",
            "[nltk_data]   Package punkt is already up-to-date!\n"
          ]
        },
        {
          "output_type": "execute_result",
          "data": {
            "text/plain": [
              "['good experience like not lit although',\n",
              " 'busy route',\n",
              " 'busy route',\n",
              " 'good lighting conditions moderate amount pedestrians good public transport connectivity',\n",
              " 'safe comfortable',\n",
              " 'busy route',\n",
              " 'not good',\n",
              " 'remark feedback would give express particular route unsafe women',\n",
              " 'unsafe uncomfortable',\n",
              " 'safe comfortable',\n",
              " 'easily available public transport',\n",
              " 'easily available public transport',\n",
              " 'prior history assaults lights isolated area low human settlements',\n",
              " 'place gloomy dark goes jungle',\n",
              " 'route not well litit unsecure travel night',\n",
              " 'busy route',\n",
              " 'place gloomy dark goes jungle',\n",
              " 'compromised security route',\n",
              " 'not working street lamps uncrowded route',\n",
              " 'safe time day dress right feminist honest answers convey something bieng funny not grim serious',\n",
              " 'den thieves people sorts sunsaan',\n",
              " 'busy route',\n",
              " 'easily available public transport',\n",
              " 'prior history assaults lights isolated area low human settlements',\n",
              " 'dim light conditions poor signal reception close tobacco alcohol shops',\n",
              " 'compromised security route',\n",
              " 'compromised security route',\n",
              " 'compromised security route',\n",
              " 'den thieves people sorts sunsaan',\n",
              " 'route described safe unsafe need change mentality people',\n",
              " 'place gloomy dark goes jungle',\n",
              " 'caution sign',\n",
              " '',\n",
              " 'happens everyday',\n",
              " 'place gloomy dark goes jungle',\n",
              " 'route unused shady area',\n",
              " 'compromised security route',\n",
              " 'safe comfortable',\n",
              " 'good lighting conditions moderate amount pedestrians good public transport connectivity',\n",
              " 'route street lights',\n",
              " 'vulger route',\n",
              " 'particular place shady means route not proper light people stroll around place often',\n",
              " 'completely illlighting irrespective presence cctv camera',\n",
              " 'route described safe unsafe need change mentality people',\n",
              " 'compromised security route',\n",
              " 'less lights less people',\n",
              " 'easily available public transport',\n",
              " 'safe time day dress right feminist honest answers convey something bieng funny not grim serious',\n",
              " '',\n",
              " 'safe time day dress right feminist honest answers convey something bieng funny not grim serious',\n",
              " 'women free anywhere depend route depends mentality society change everything fine',\n",
              " 'boys unsafe dammnit wamens stop one gives shit',\n",
              " 'unsafe uncomfortable',\n",
              " 'unsafe uncomfortable',\n",
              " 'completely illlighting irrespective presence cctv camera',\n",
              " 'lack police service',\n",
              " 'not good',\n",
              " 'women free anywhere depend route depends mentality society change everything fine',\n",
              " 'street lights working cameras poor mobile network wifi also narrow lonely',\n",
              " 'route described safe unsafe need change mentality people',\n",
              " 'happens everyday']"
            ]
          },
          "metadata": {},
          "execution_count": 35
        }
      ]
    },
    {
      "cell_type": "code",
      "source": [
        "document=[]\n",
        "for i in range(y_train.shape[0]):\n",
        "    document.append((data[i],y_train[i]))\n",
        "document"
      ],
      "metadata": {
        "colab": {
          "base_uri": "https://localhost:8080/"
        },
        "id": "ohwlQggjgns3",
        "outputId": "ee014e2c-d7df-49a3-8b66-1aa3d5f8d792"
      },
      "execution_count": null,
      "outputs": [
        {
          "output_type": "execute_result",
          "data": {
            "text/plain": [
              "[('good experience like not lit although', 0),\n",
              " ('busy route', 0),\n",
              " ('busy route', 0),\n",
              " ('good lighting conditions moderate amount pedestrians good public transport connectivity',\n",
              "  0),\n",
              " ('safe comfortable', 0),\n",
              " ('busy route', 0),\n",
              " ('not good', 0),\n",
              " ('remark feedback would give express particular route unsafe women', 0),\n",
              " ('unsafe uncomfortable', 0),\n",
              " ('safe comfortable', 0),\n",
              " ('easily available public transport', 0),\n",
              " ('easily available public transport', 0),\n",
              " ('prior history assaults lights isolated area low human settlements', 0),\n",
              " ('place gloomy dark goes jungle', 0),\n",
              " ('route not well litit unsecure travel night', 0),\n",
              " ('busy route', 0),\n",
              " ('place gloomy dark goes jungle', 0),\n",
              " ('compromised security route', 0),\n",
              " ('not working street lamps uncrowded route', 0),\n",
              " ('safe time day dress right feminist honest answers convey something bieng funny not grim serious',\n",
              "  0),\n",
              " ('den thieves people sorts sunsaan', 0),\n",
              " ('busy route', 0),\n",
              " ('easily available public transport', 0),\n",
              " ('prior history assaults lights isolated area low human settlements', 0),\n",
              " ('dim light conditions poor signal reception close tobacco alcohol shops', 0),\n",
              " ('compromised security route', 0),\n",
              " ('compromised security route', 0),\n",
              " ('compromised security route', 0),\n",
              " ('den thieves people sorts sunsaan', 0),\n",
              " ('route described safe unsafe need change mentality people', 0),\n",
              " ('place gloomy dark goes jungle', 0),\n",
              " ('caution sign', 0),\n",
              " ('', 0),\n",
              " ('happens everyday', 0),\n",
              " ('place gloomy dark goes jungle', 0),\n",
              " ('route unused shady area', 0),\n",
              " ('compromised security route', 0),\n",
              " ('safe comfortable', 0),\n",
              " ('good lighting conditions moderate amount pedestrians good public transport connectivity',\n",
              "  0),\n",
              " ('route street lights', 0),\n",
              " ('vulger route', 0),\n",
              " ('particular place shady means route not proper light people stroll around place often',\n",
              "  0),\n",
              " ('completely illlighting irrespective presence cctv camera', 0),\n",
              " ('route described safe unsafe need change mentality people', 0),\n",
              " ('compromised security route', 0),\n",
              " ('less lights less people', 0),\n",
              " ('easily available public transport', 0),\n",
              " ('safe time day dress right feminist honest answers convey something bieng funny not grim serious',\n",
              "  0),\n",
              " ('', 0),\n",
              " ('safe time day dress right feminist honest answers convey something bieng funny not grim serious',\n",
              "  0),\n",
              " ('women free anywhere depend route depends mentality society change everything fine',\n",
              "  0),\n",
              " ('boys unsafe dammnit wamens stop one gives shit', 0),\n",
              " ('unsafe uncomfortable', 0),\n",
              " ('unsafe uncomfortable', 0),\n",
              " ('completely illlighting irrespective presence cctv camera', 0),\n",
              " ('lack police service', 1),\n",
              " ('not good', 0),\n",
              " ('women free anywhere depend route depends mentality society change everything fine',\n",
              "  0),\n",
              " ('street lights working cameras poor mobile network wifi also narrow lonely',\n",
              "  1),\n",
              " ('route described safe unsafe need change mentality people', 0),\n",
              " ('happens everyday', 0)]"
            ]
          },
          "metadata": {},
          "execution_count": 36
        }
      ]
    },
    {
      "cell_type": "code",
      "source": [
        "random.shuffle(document)\n",
        "train=document[:91]\n",
        "train"
      ],
      "metadata": {
        "colab": {
          "base_uri": "https://localhost:8080/"
        },
        "id": "H7vYl-UAiI5i",
        "outputId": "72dd84de-0e2c-4701-a62f-34f3d663f5f7"
      },
      "execution_count": null,
      "outputs": [
        {
          "output_type": "execute_result",
          "data": {
            "text/plain": [
              "[('busy route', 0),\n",
              " ('safe comfortable', 0),\n",
              " ('compromised security route', 0),\n",
              " ('women free anywhere depend route depends mentality society change everything fine',\n",
              "  0),\n",
              " ('compromised security route', 0),\n",
              " ('busy route', 0),\n",
              " ('good lighting conditions moderate amount pedestrians good public transport connectivity',\n",
              "  0),\n",
              " ('busy route', 0),\n",
              " ('route street lights', 0),\n",
              " ('busy route', 0),\n",
              " ('good lighting conditions moderate amount pedestrians good public transport connectivity',\n",
              "  0),\n",
              " ('boys unsafe dammnit wamens stop one gives shit', 0),\n",
              " ('route not well litit unsecure travel night', 0),\n",
              " ('place gloomy dark goes jungle', 0),\n",
              " ('completely illlighting irrespective presence cctv camera', 0),\n",
              " ('unsafe uncomfortable', 0),\n",
              " ('compromised security route', 0),\n",
              " ('', 0),\n",
              " ('street lights working cameras poor mobile network wifi also narrow lonely',\n",
              "  1),\n",
              " ('lack police service', 1),\n",
              " ('easily available public transport', 0),\n",
              " ('easily available public transport', 0),\n",
              " ('dim light conditions poor signal reception close tobacco alcohol shops', 0),\n",
              " ('easily available public transport', 0),\n",
              " ('happens everyday', 0),\n",
              " ('den thieves people sorts sunsaan', 0),\n",
              " ('not good', 0),\n",
              " ('place gloomy dark goes jungle', 0),\n",
              " ('compromised security route', 0),\n",
              " ('women free anywhere depend route depends mentality society change everything fine',\n",
              "  0),\n",
              " ('safe time day dress right feminist honest answers convey something bieng funny not grim serious',\n",
              "  0),\n",
              " ('place gloomy dark goes jungle', 0),\n",
              " ('busy route', 0),\n",
              " ('happens everyday', 0),\n",
              " ('den thieves people sorts sunsaan', 0),\n",
              " ('unsafe uncomfortable', 0),\n",
              " ('place gloomy dark goes jungle', 0),\n",
              " ('safe time day dress right feminist honest answers convey something bieng funny not grim serious',\n",
              "  0),\n",
              " ('route unused shady area', 0),\n",
              " ('', 0),\n",
              " ('less lights less people', 0),\n",
              " ('unsafe uncomfortable', 0),\n",
              " ('safe comfortable', 0),\n",
              " ('route described safe unsafe need change mentality people', 0),\n",
              " ('route described safe unsafe need change mentality people', 0),\n",
              " ('not good', 0),\n",
              " ('good experience like not lit although', 0),\n",
              " ('caution sign', 0),\n",
              " ('route described safe unsafe need change mentality people', 0),\n",
              " ('vulger route', 0),\n",
              " ('safe time day dress right feminist honest answers convey something bieng funny not grim serious',\n",
              "  0),\n",
              " ('safe comfortable', 0),\n",
              " ('not working street lamps uncrowded route', 0),\n",
              " ('remark feedback would give express particular route unsafe women', 0),\n",
              " ('easily available public transport', 0),\n",
              " ('prior history assaults lights isolated area low human settlements', 0),\n",
              " ('compromised security route', 0),\n",
              " ('compromised security route', 0),\n",
              " ('prior history assaults lights isolated area low human settlements', 0),\n",
              " ('particular place shady means route not proper light people stroll around place often',\n",
              "  0),\n",
              " ('completely illlighting irrespective presence cctv camera', 0)]"
            ]
          },
          "metadata": {},
          "execution_count": 37
        }
      ]
    },
    {
      "cell_type": "code",
      "source": [
        "xtrain=[]\n",
        "ytrain=[]\n",
        "for i in (train):\n",
        "    xtrain.append(i[0])\n",
        "    ytrain.append(i[1])\n",
        "xtrain"
      ],
      "metadata": {
        "colab": {
          "base_uri": "https://localhost:8080/"
        },
        "id": "EllrWg-ciMDi",
        "outputId": "31577332-9e7b-4baa-d73e-9ae907495c8c"
      },
      "execution_count": null,
      "outputs": [
        {
          "output_type": "execute_result",
          "data": {
            "text/plain": [
              "['busy route',\n",
              " 'safe comfortable',\n",
              " 'compromised security route',\n",
              " 'women free anywhere depend route depends mentality society change everything fine',\n",
              " 'compromised security route',\n",
              " 'busy route',\n",
              " 'good lighting conditions moderate amount pedestrians good public transport connectivity',\n",
              " 'busy route',\n",
              " 'route street lights',\n",
              " 'busy route',\n",
              " 'good lighting conditions moderate amount pedestrians good public transport connectivity',\n",
              " 'boys unsafe dammnit wamens stop one gives shit',\n",
              " 'route not well litit unsecure travel night',\n",
              " 'place gloomy dark goes jungle',\n",
              " 'completely illlighting irrespective presence cctv camera',\n",
              " 'unsafe uncomfortable',\n",
              " 'compromised security route',\n",
              " '',\n",
              " 'street lights working cameras poor mobile network wifi also narrow lonely',\n",
              " 'lack police service',\n",
              " 'easily available public transport',\n",
              " 'easily available public transport',\n",
              " 'dim light conditions poor signal reception close tobacco alcohol shops',\n",
              " 'easily available public transport',\n",
              " 'happens everyday',\n",
              " 'den thieves people sorts sunsaan',\n",
              " 'not good',\n",
              " 'place gloomy dark goes jungle',\n",
              " 'compromised security route',\n",
              " 'women free anywhere depend route depends mentality society change everything fine',\n",
              " 'safe time day dress right feminist honest answers convey something bieng funny not grim serious',\n",
              " 'place gloomy dark goes jungle',\n",
              " 'busy route',\n",
              " 'happens everyday',\n",
              " 'den thieves people sorts sunsaan',\n",
              " 'unsafe uncomfortable',\n",
              " 'place gloomy dark goes jungle',\n",
              " 'safe time day dress right feminist honest answers convey something bieng funny not grim serious',\n",
              " 'route unused shady area',\n",
              " '',\n",
              " 'less lights less people',\n",
              " 'unsafe uncomfortable',\n",
              " 'safe comfortable',\n",
              " 'route described safe unsafe need change mentality people',\n",
              " 'route described safe unsafe need change mentality people',\n",
              " 'not good',\n",
              " 'good experience like not lit although',\n",
              " 'caution sign',\n",
              " 'route described safe unsafe need change mentality people',\n",
              " 'vulger route',\n",
              " 'safe time day dress right feminist honest answers convey something bieng funny not grim serious',\n",
              " 'safe comfortable',\n",
              " 'not working street lamps uncrowded route',\n",
              " 'remark feedback would give express particular route unsafe women',\n",
              " 'easily available public transport',\n",
              " 'prior history assaults lights isolated area low human settlements',\n",
              " 'compromised security route',\n",
              " 'compromised security route',\n",
              " 'prior history assaults lights isolated area low human settlements',\n",
              " 'particular place shady means route not proper light people stroll around place often',\n",
              " 'completely illlighting irrespective presence cctv camera']"
            ]
          },
          "metadata": {},
          "execution_count": 38
        }
      ]
    },
    {
      "cell_type": "code",
      "source": [
        "\n",
        "from sklearn.feature_extraction.text import TfidfVectorizer\n",
        "vec = TfidfVectorizer(max_features=3200)\n",
        "data1 = vec.fit_transform(xtrain).toarray()\n",
        "print(data1)"
      ],
      "metadata": {
        "colab": {
          "base_uri": "https://localhost:8080/"
        },
        "id": "EZq4fCI9iPVH",
        "outputId": "5f64c4cf-b2c5-4a72-d8b7-e8878b7ec269"
      },
      "execution_count": null,
      "outputs": [
        {
          "output_type": "stream",
          "name": "stdout",
          "text": [
            "[[0. 0. 0. ... 0. 0. 0.]\n",
            " [0. 0. 0. ... 0. 0. 0.]\n",
            " [0. 0. 0. ... 0. 0. 0.]\n",
            " ...\n",
            " [0. 0. 0. ... 0. 0. 0.]\n",
            " [0. 0. 0. ... 0. 0. 0.]\n",
            " [0. 0. 0. ... 0. 0. 0.]]\n"
          ]
        }
      ]
    },
    {
      "cell_type": "code",
      "source": [
        "xtrain=pd.DataFrame(data1)"
      ],
      "metadata": {
        "id": "9hq-yU5QiSZ8"
      },
      "execution_count": null,
      "outputs": []
    },
    {
      "cell_type": "code",
      "source": [
        "ytrain=pd.DataFrame(ytrain)"
      ],
      "metadata": {
        "id": "N_OGfvoliVmx"
      },
      "execution_count": null,
      "outputs": []
    },
    {
      "cell_type": "code",
      "source": [
        "from sklearn.ensemble import RandomForestClassifier\n",
        "from sklearn.linear_model import LogisticRegression\n",
        "from sklearn.tree import DecisionTreeClassifier\n",
        "from sklearn.svm import SVC\n",
        "from sklearn.model_selection import GridSearchCV"
      ],
      "metadata": {
        "id": "a84eamHAiavU"
      },
      "execution_count": null,
      "outputs": []
    },
    {
      "cell_type": "code",
      "source": [
        "rf=RandomForestClassifier()\n",
        "rf.fit(xtrain,ytrain)\n",
        "rf.score(xtrain,ytrain)"
      ],
      "metadata": {
        "colab": {
          "base_uri": "https://localhost:8080/"
        },
        "id": "Dk_J-XidibAP",
        "outputId": "01e88e1d-1688-4de5-a8b6-39ddeb385353"
      },
      "execution_count": null,
      "outputs": [
        {
          "output_type": "stream",
          "name": "stderr",
          "text": [
            "<ipython-input-43-697f77b1c204>:2: DataConversionWarning: A column-vector y was passed when a 1d array was expected. Please change the shape of y to (n_samples,), for example using ravel().\n",
            "  rf.fit(xtrain,ytrain)\n"
          ]
        },
        {
          "output_type": "execute_result",
          "data": {
            "text/plain": [
              "1.0"
            ]
          },
          "metadata": {},
          "execution_count": 43
        }
      ]
    },
    {
      "cell_type": "code",
      "source": [
        "l=LogisticRegression(fit_intercept=False)\n",
        "l.fit(xtrain,ytrain)\n",
        "l.score(xtrain,ytrain)"
      ],
      "metadata": {
        "colab": {
          "base_uri": "https://localhost:8080/"
        },
        "id": "er8501AQidJR",
        "outputId": "48768b85-ed22-44e4-d5c9-8decd4698188"
      },
      "execution_count": null,
      "outputs": [
        {
          "output_type": "stream",
          "name": "stderr",
          "text": [
            "/usr/local/lib/python3.9/dist-packages/sklearn/utils/validation.py:1143: DataConversionWarning: A column-vector y was passed when a 1d array was expected. Please change the shape of y to (n_samples, ), for example using ravel().\n",
            "  y = column_or_1d(y, warn=True)\n"
          ]
        },
        {
          "output_type": "execute_result",
          "data": {
            "text/plain": [
              "1.0"
            ]
          },
          "metadata": {},
          "execution_count": 44
        }
      ]
    },
    {
      "cell_type": "code",
      "source": [
        "d=DecisionTreeClassifier()\n",
        "d.fit(xtrain,ytrain)\n",
        "d.score(xtrain,ytrain)"
      ],
      "metadata": {
        "colab": {
          "base_uri": "https://localhost:8080/"
        },
        "id": "ehqjnRURigSv",
        "outputId": "e029b332-5688-4978-e567-51ccf8095ed0"
      },
      "execution_count": null,
      "outputs": [
        {
          "output_type": "execute_result",
          "data": {
            "text/plain": [
              "1.0"
            ]
          },
          "metadata": {},
          "execution_count": 45
        }
      ]
    },
    {
      "cell_type": "code",
      "source": [
        "from sklearn.naive_bayes import GaussianNB, BernoulliNB, MultinomialNB\n",
        "g=BernoulliNB()\n",
        "g.fit(xtrain,ytrain)\n",
        "g.score(xtrain,ytrain)"
      ],
      "metadata": {
        "colab": {
          "base_uri": "https://localhost:8080/"
        },
        "id": "ScgxbOUniiyL",
        "outputId": "4ef1abb3-9a03-41c3-ca08-1ff7800ab352"
      },
      "execution_count": null,
      "outputs": [
        {
          "output_type": "stream",
          "name": "stderr",
          "text": [
            "/usr/local/lib/python3.9/dist-packages/sklearn/utils/validation.py:1143: DataConversionWarning: A column-vector y was passed when a 1d array was expected. Please change the shape of y to (n_samples, ), for example using ravel().\n",
            "  y = column_or_1d(y, warn=True)\n"
          ]
        },
        {
          "output_type": "execute_result",
          "data": {
            "text/plain": [
              "0.9836065573770492"
            ]
          },
          "metadata": {},
          "execution_count": 46
        }
      ]
    },
    {
      "cell_type": "code",
      "source": [
        "def predict_safety(remark):\n",
        "    datta=[]\n",
        "    sentence=all_words(remark)\n",
        "    datta.append((\" \".join(sentence)))\n",
        "    documentt=[]\n",
        "    documentt.append(datta)\n",
        "    ttrain = documentt[:]\n",
        "    xttrain=[]\n",
        "    for i in (ttrain):\n",
        "        xttrain.append(i[0])\n",
        "    datta1=vec.transform(xttrain).toarray()\n",
        "    xttrain=pd.DataFrame(datta1)\n",
        "    return str(l.predict(xttrain)[0])"
      ],
      "metadata": {
        "id": "2Zb_51BHim3z"
      },
      "execution_count": null,
      "outputs": []
    },
    {
      "cell_type": "code",
      "source": [
        "predict_safety(\"it is unsafe and not well lit\")"
      ],
      "metadata": {
        "colab": {
          "base_uri": "https://localhost:8080/",
          "height": 36
        },
        "id": "5D1k4JzpiqOm",
        "outputId": "d264477b-8be3-456b-ab89-62088bcaec05"
      },
      "execution_count": null,
      "outputs": [
        {
          "output_type": "execute_result",
          "data": {
            "text/plain": [
              "'0'"
            ],
            "application/vnd.google.colaboratory.intrinsic+json": {
              "type": "string"
            }
          },
          "metadata": {},
          "execution_count": 48
        }
      ]
    },
    {
      "cell_type": "code",
      "source": [],
      "metadata": {
        "id": "hWX61LM3isih"
      },
      "execution_count": null,
      "outputs": []
    }
  ]
}